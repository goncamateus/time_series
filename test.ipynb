{
 "cells": [
  {
   "cell_type": "code",
   "execution_count": 1,
   "metadata": {},
   "outputs": [
    {
     "name": "stderr",
     "output_type": "stream",
     "text": [
      "/home/gonca/.local/lib/python3.10/site-packages/tqdm/auto.py:22: TqdmWarning: IProgress not found. Please update jupyter and ipywidgets. See https://ipywidgets.readthedocs.io/en/stable/user_install.html\n",
      "  from .autonotebook import tqdm as notebook_tqdm\n"
     ]
    },
    {
     "ename": "ModuleNotFoundError",
     "evalue": "No module named 'src.right_preprocess'",
     "output_type": "error",
     "traceback": [
      "\u001b[0;31m---------------------------------------------------------------------------\u001b[0m",
      "\u001b[0;31mModuleNotFoundError\u001b[0m                       Traceback (most recent call last)",
      "\u001b[1;32m/home/gonca/cer/time_series/test.ipynb Cell 1'\u001b[0m in \u001b[0;36m<cell line: 1>\u001b[0;34m()\u001b[0m\n\u001b[0;32m----> <a href='vscode-notebook-cell:/home/gonca/cer/time_series/test.ipynb#ch0000000?line=0'>1</a>\u001b[0m \u001b[39mfrom\u001b[39;00m \u001b[39msrc\u001b[39;00m\u001b[39m.\u001b[39;00m\u001b[39mdataset\u001b[39;00m \u001b[39mimport\u001b[39;00m CERDataset\n\u001b[1;32m      <a href='vscode-notebook-cell:/home/gonca/cer/time_series/test.ipynb#ch0000000?line=1'>2</a>\u001b[0m \u001b[39mfrom\u001b[39;00m \u001b[39msrc\u001b[39;00m\u001b[39m.\u001b[39;00m\u001b[39mmlp\u001b[39;00m \u001b[39mimport\u001b[39;00m MLPLucas\n\u001b[1;32m      <a href='vscode-notebook-cell:/home/gonca/cer/time_series/test.ipynb#ch0000000?line=2'>3</a>\u001b[0m \u001b[39mfrom\u001b[39;00m \u001b[39mpytorch_lightning\u001b[39;00m \u001b[39mimport\u001b[39;00m Trainer\n",
      "File \u001b[0;32m~/cer/time_series/src/dataset.py:11\u001b[0m, in \u001b[0;36m<module>\u001b[0;34m\u001b[0m\n\u001b[1;32m      8\u001b[0m \u001b[39mimport\u001b[39;00m \u001b[39mtorch\u001b[39;00m\u001b[39m.\u001b[39;00m\u001b[39mutils\u001b[39;00m\u001b[39m.\u001b[39;00m\u001b[39mdata\u001b[39;00m\n\u001b[1;32m     10\u001b[0m \u001b[39mfrom\u001b[39;00m \u001b[39msrc\u001b[39;00m\u001b[39m.\u001b[39;00m\u001b[39mpreprocess\u001b[39;00m \u001b[39mimport\u001b[39;00m prepare_data_bench, prepare_data_relatorio\n\u001b[0;32m---> 11\u001b[0m \u001b[39mfrom\u001b[39;00m \u001b[39msrc\u001b[39;00m\u001b[39m.\u001b[39;00m\u001b[39mright_preprocess\u001b[39;00m \u001b[39mimport\u001b[39;00m prepare_data\n\u001b[1;32m     14\u001b[0m \u001b[39mclass\u001b[39;00m \u001b[39mDataset\u001b[39;00m(torch\u001b[39m.\u001b[39mutils\u001b[39m.\u001b[39mdata\u001b[39m.\u001b[39mDataset):\n\u001b[1;32m     15\u001b[0m     \u001b[39m\"\"\"Multi-variate Time-Series Dataset for *.txt file\u001b[39;00m\n\u001b[1;32m     16\u001b[0m \n\u001b[1;32m     17\u001b[0m \u001b[39m    Returns:\u001b[39;00m\n\u001b[1;32m     18\u001b[0m \u001b[39m        [sample, label]\u001b[39;00m\n\u001b[1;32m     19\u001b[0m \u001b[39m    \"\"\"\u001b[39;00m\n",
      "\u001b[0;31mModuleNotFoundError\u001b[0m: No module named 'src.right_preprocess'"
     ]
    }
   ],
   "source": [
    "from src.dataset import CERDataset\n",
    "from src.mlp import MLPLucas\n",
    "from pytorch_lightning import Trainer\n",
    "from torch.utils.data import DataLoader\n",
    "import matplotlib.pyplot as plt\n",
    "import seaborn\n",
    "import numpy as np\n",
    "import skill_metrics as sm\n",
    "\n",
    "dataset = CERDataset(central_eolica='Aguia', window=3, horizons=12)"
   ]
  },
  {
   "cell_type": "code",
   "execution_count": null,
   "metadata": {},
   "outputs": [],
   "source": [
    "def plot_taylor(refs: dict, predictions_dict: dict):\n",
    "\n",
    "    models = list(predictions_dict.keys())\n",
    "    colors = ['c', 'm', 'y', 'k', 'r', 'b', 'g']\n",
    "    colors = colors[:len(models)]\n",
    "    models = {model: color for model, color in zip(models, colors)}\n",
    "    for idx, (model, pred_dict) in enumerate(predictions_dict.items()):\n",
    "        taylor_stats = []\n",
    "        name = model[0]\n",
    "        if model.endswith('ND'):\n",
    "            name = name + 'ND'\n",
    "        for horizon, pred in pred_dict.items():\n",
    "            taylor_stats.append(sm.taylor_statistics(pred, refs[name][int(horizon)], 'data'))\n",
    "\n",
    "        sdev = np.array([taylor_stats[0]['sdev'][0]]+[x['sdev'][1]\n",
    "                                                    for x in taylor_stats])\n",
    "        crmsd = np.array([taylor_stats[0]['crmsd'][0]]+[x['crmsd'][1]\n",
    "                                                        for x in taylor_stats])\n",
    "        ccoef = np.array([taylor_stats[0]['ccoef'][0]]+[x['ccoef'][1]\n",
    "                                                        for x in taylor_stats])\n",
    "\n",
    "        # To change other params in the plot, check SkillMetrics documentation in\n",
    "        # https://github.com/PeterRochford/SkillMetrics/wiki/Target-Diagram-Options\n",
    "        if len(list(predictions_dict.keys())) != 1:\n",
    "            if idx != len(list(predictions_dict.keys()))-1 or len(list(predictions_dict.keys())) == 1:\n",
    "                sm.taylor_diagram(sdev, crmsd, ccoef, styleOBS='-',\n",
    "                                colOBS='g', markerobs='o',\n",
    "                                titleOBS='Observation',\n",
    "                                markercolor=models[model])\n",
    "            else:\n",
    "                sm.taylor_diagram(sdev, crmsd, ccoef, styleOBS='-',\n",
    "                                titleOBS='Observation',\n",
    "                                colOBS='g', markerobs='o', markercolor=models[model],\n",
    "                                overlay = 'on', markerLabel=models)\n",
    "        else:\n",
    "            sm.taylor_diagram(sdev, crmsd, ccoef, styleOBS='-',\n",
    "                      colOBS='g', markerobs='o',\n",
    "                      titleOBS='Observation', markercolor='c',\n",
    "                      markerLabel=['placeholder']+[\n",
    "                          k+1 for k, v in pred_dict.items()])"
   ]
  },
  {
   "cell_type": "code",
   "execution_count": null,
   "metadata": {},
   "outputs": [],
   "source": [
    "dataset.set_type('train')\n",
    "dataset.set_horizon(0)\n",
    "train_loader_lucas = DataLoader(dataset, batch_size=256, shuffle=True, num_workers=8)\n",
    "input_example_lucas = next(iter(train_loader_lucas))[0]\n",
    "input_size_lucas = input_example_lucas.shape[1] * input_example_lucas.shape[2]\n",
    "\n",
    "mlp = MLPLucas(\n",
    "    window_size=input_example_lucas.shape[1],\n",
    "    n_comps=input_example_lucas.shape[2],\n",
    "    horizons=1,\n",
    ")\n"
   ]
  },
  {
   "cell_type": "code",
   "execution_count": null,
   "metadata": {},
   "outputs": [],
   "source": [
    "trainer = Trainer(gpus=1, max_epochs=10)   \n",
    "trainer.fit(mlp, train_dataloaders=train_loader_lucas)\n",
    "dataset.set_type('test')\n",
    "mlp = mlp.cpu()\n",
    "X_test_lucas = dataset.samples\n",
    "y_mlp = mlp(X_test_lucas).detach()/dataset.test_scaler.scale_\n",
    "y = dataset.labels/dataset.test_scaler.scale_\n"
   ]
  },
  {
   "cell_type": "code",
   "execution_count": null,
   "metadata": {},
   "outputs": [],
   "source": [
    "y_mlp = y_mlp.numpy()\n",
    "y = y.numpy()\n",
    "\n",
    "plt.plot(y)\n",
    "plt.plot(y_mlp)\n",
    "plt.legend(['Original', 'Cabral'])\n",
    "plt.show()"
   ]
  },
  {
   "cell_type": "code",
   "execution_count": null,
   "metadata": {},
   "outputs": [],
   "source": [
    "import pandas as pd\n",
    "a = {'ori': y, 'cabral': y_mlp}\n",
    "a = pd.DataFrame(a)\n",
    "a.corr()"
   ]
  },
  {
   "cell_type": "code",
   "execution_count": null,
   "metadata": {},
   "outputs": [],
   "source": [
    "preds = {}\n",
    "preds['Cabral'] = {0: y_mlp}\n",
    "refs = {key: {0: y} for key in ['C']}\n",
    "plot_taylor(refs, preds)\n",
    "plt.show()"
   ]
  },
  {
   "cell_type": "code",
   "execution_count": null,
   "metadata": {},
   "outputs": [],
   "source": [
    "len(dataset)"
   ]
  }
 ],
 "metadata": {
  "kernelspec": {
   "display_name": "Python 3.10.4 64-bit ('ts')",
   "language": "python",
   "name": "python3"
  },
  "language_info": {
   "codemirror_mode": {
    "name": "ipython",
    "version": 3
   },
   "file_extension": ".py",
   "mimetype": "text/x-python",
   "name": "python",
   "nbconvert_exporter": "python",
   "pygments_lexer": "ipython3",
   "version": "3.10.4"
  },
  "orig_nbformat": 4,
  "vscode": {
   "interpreter": {
    "hash": "af26afc2a086c8af4c94bcc8b502e697910580144e5cf4fb43b00275679c4011"
   }
  }
 },
 "nbformat": 4,
 "nbformat_minor": 2
}
